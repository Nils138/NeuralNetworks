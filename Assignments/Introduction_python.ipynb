{
 "cells": [
  {
   "cell_type": "markdown",
   "metadata": {},
   "source": [
    "# Introduction Python\n",
    "\n",
    "    This is a read-only assignment. You do not need to hand in anything for this assignment. \n",
    "    Do read it carefully, as the knowledge is required throughout the course.\n",
    "\n",
    "Learning goals:\n",
    "1. get familiar with basic python\n",
    "1. get familiar with matplotlib in notebooks\n",
    "1. get familiar with the numpy module"
   ]
  },
  {
   "cell_type": "markdown",
   "metadata": {},
   "source": [
    "## Comments"
   ]
  },
  {
   "cell_type": "code",
   "execution_count": 1,
   "metadata": {},
   "outputs": [],
   "source": [
    "# Things behind the '#' are considered to be comments and ignored by the python interpretor. \n",
    "# Use them to comment your code!"
   ]
  },
  {
   "cell_type": "markdown",
   "metadata": {},
   "source": [
    "## Print statements"
   ]
  },
  {
   "cell_type": "code",
   "execution_count": 1,
   "metadata": {},
   "outputs": [
    {
     "name": "stdout",
     "output_type": "stream",
     "text": [
      "Hello World!\n",
      "I am alive!\n",
      "Remainder when dividing 42 by 23 is 19\n",
      "Variable x is of length 10\n",
      "Variables: first, second, third\n",
      "0.123456789 becomes 0.123\n"
     ]
    }
   ],
   "source": [
    "# Print statements can help you a lot by printing where you are in the code\n",
    "print(\"Hello World!\")\n",
    "print(\"I am alive!\")\n",
    "\n",
    "# Print statements can take arguments too by using the format method. \n",
    "print(\"Remainder when dividing 42 by 23 is \" + str(42 % 23))\n",
    "\n",
    "# This is especially usefull for debugging, e.g. to print sizes of variables.\n",
    "x = range(10)\n",
    "print(\"Variable x is of length {}\".format(len(x)))\n",
    "\n",
    "# Multiple arguments is possible too\n",
    "print(\"Variables: {}, {}, {}\".format(\"first\", \"second\", \"third\"))\n",
    "\n",
    "# Printing only few decimal points\n",
    "print(\"0.123456789 becomes {:0.3f}\".format(0.123456789))"
   ]
  },
  {
   "cell_type": "markdown",
   "metadata": {},
   "source": [
    "## Lists"
   ]
  },
  {
   "cell_type": "code",
   "execution_count": 2,
   "metadata": {},
   "outputs": [
    {
     "name": "stdout",
     "output_type": "stream",
     "text": [
      "[1, 2, 3, 'four', 'five', [6, 7, 8.0]]\n"
     ]
    }
   ],
   "source": [
    "# Lists can take several different objects, i.e., integers, floats, strings, lists, etc.\n",
    "l = [1, 2, 3, 'four', \"five\", [6, 7, 8.0]]\n",
    "print(l)"
   ]
  },
  {
   "cell_type": "code",
   "execution_count": 4,
   "metadata": {},
   "outputs": [],
   "source": [
    "# You can append new items to a list\n",
    "l.append([2, 3, 4, 5])\n",
    "print(l)"
   ]
  },
  {
   "cell_type": "code",
   "execution_count": 5,
   "metadata": {},
   "outputs": [
    {
     "name": "stdout",
     "output_type": "stream",
     "text": [
      "['zero', 2, 3, 'four', 'five', [6, 7, 8.0], [2, 3, 4, 5]]\n"
     ]
    }
   ],
   "source": [
    "# You can change items in a list\n",
    "l[0] = \"zero\"\n",
    "print(l)"
   ]
  },
  {
   "cell_type": "code",
   "execution_count": 6,
   "metadata": {},
   "outputs": [
    {
     "name": "stdout",
     "output_type": "stream",
     "text": [
      "First element:  zero\n",
      "Second element:  2\n",
      "Last element:  [2, 3, 4, 5]\n",
      "A slice:  [2, 3, 'four', 'five', [6, 7, 8.0], [2, 3, 4, 5]]\n",
      "Another slice:  [2, 3]\n",
      "Nested element:  3\n",
      "Slice of nested elements:  [3, 4, 5]\n"
     ]
    }
   ],
   "source": [
    "# Indexing of lists\n",
    "print(\"First element: \", l[0])\n",
    "print(\"Second element: \", l[1])\n",
    "print(\"Last element: \", l[-1])\n",
    "print(\"A slice: \", l[1:])\n",
    "print(\"Another slice: \", l[1:3]) #inclusive lower bound and exclusive upper bound\n",
    "print(\"Nested element: \", l[-1][1])\n",
    "print(\"Slice of nested elements: \", l[-1][1:])"
   ]
  },
  {
   "cell_type": "code",
   "execution_count": 7,
   "metadata": {},
   "outputs": [
    {
     "name": "stdout",
     "output_type": "stream",
     "text": [
      "Forwards counting list: [0, 1, 2, 3, 4, 5, 6, 7, 8, 9]\n",
      "Forwards counting list of even numbers: [0, 2, 4, 6, 8]\n",
      "Backwards counting list: [23, 22, 21, 20, 19, 18, 17, 16, 15, 14, 13, 12, 11]\n"
     ]
    }
   ],
   "source": [
    "# Making a list of subsequent numbers is easy in python! Note: Python counts from 0!\n",
    "print(\"Forwards counting list:\", list(range(10)))\n",
    "print(\"Forwards counting list of even numbers:\", list(range(0,10,2)))\n",
    "print(\"Backwards counting list:\",  list(range(23,10,-1)))"
   ]
  },
  {
   "cell_type": "markdown",
   "metadata": {},
   "source": [
    "## Tuples"
   ]
  },
  {
   "cell_type": "code",
   "execution_count": 8,
   "metadata": {},
   "outputs": [
    {
     "name": "stdout",
     "output_type": "stream",
     "text": [
      "(1, 2, 3, 'four')\n"
     ]
    }
   ],
   "source": [
    "# Tuples can also take several different objects\n",
    "t = (1, 2, 3, \"four\")\n",
    "print(t)"
   ]
  },
  {
   "cell_type": "code",
   "execution_count": 9,
   "metadata": {},
   "outputs": [
    {
     "name": "stdout",
     "output_type": "stream",
     "text": [
      "'tuple' object does not support item assignment\n"
     ]
    }
   ],
   "source": [
    "# Contrary to lists, tuples are immutable, the following gives an error (check out the try-except!)\n",
    "try:\n",
    "    t[1] = 2\n",
    "except Exception as e:\n",
    "    print(e)"
   ]
  },
  {
   "cell_type": "code",
   "execution_count": 10,
   "metadata": {},
   "outputs": [
    {
     "name": "stdout",
     "output_type": "stream",
     "text": [
      "First elelement:  1\n",
      "Second elelement:  2\n",
      "Last elelement:  four\n",
      "A slice:  (2, 3, 'four')\n",
      "Another slice:  (2, 3)\n"
     ]
    }
   ],
   "source": [
    "# Indexing tuples\n",
    "print(\"First elelement: \", t[0])\n",
    "print(\"Second elelement: \", t[1])\n",
    "print(\"Last elelement: \", t[-1])\n",
    "print(\"A slice: \", t[1:])\n",
    "print(\"Another slice: \", t[1:3])"
   ]
  },
  {
   "cell_type": "markdown",
   "metadata": {},
   "source": [
    "## Dictionaries"
   ]
  },
  {
   "cell_type": "code",
   "execution_count": 11,
   "metadata": {},
   "outputs": [
    {
     "name": "stdout",
     "output_type": "stream",
     "text": [
      "{'key1': 1, 'key2': 2, 'key3': 'five', 'aList': [1, 2, 3], 'aDict': {'a': 10, 'b': 20}}\n"
     ]
    }
   ],
   "source": [
    "# Dictionaries are key-value pairs\n",
    "d = {'key1': 1, 'key2': 2, \"key3\": \"five\", \"aList\": [1, 2, 3], \"aDict\": {\"a\": 10, \"b\": 20}}\n",
    "print(d)"
   ]
  },
  {
   "cell_type": "code",
   "execution_count": 12,
   "metadata": {},
   "outputs": [
    {
     "name": "stdout",
     "output_type": "stream",
     "text": [
      "{'key1': 1, 'key2': 2, 'key3': 'five', 'aList': [1, 2, 3], 'aDict': {'a': 10, 'b': 20}, 'newKey': 20}\n"
     ]
    }
   ],
   "source": [
    "# Adding new items\n",
    "d[\"newKey\"] = 20\n",
    "print(d)"
   ]
  },
  {
   "cell_type": "code",
   "execution_count": 13,
   "metadata": {},
   "outputs": [
    {
     "name": "stdout",
     "output_type": "stream",
     "text": [
      "{'key1': 1.45, 'key2': 2, 'key3': 'five', 'aList': [1, 2, 3], 'aDict': {'a': 10, 'b': 20}, 'newKey': 20}\n"
     ]
    }
   ],
   "source": [
    "# Updating a value\n",
    "d[\"key1\"] = 1.45\n",
    "print(d)"
   ]
  },
  {
   "cell_type": "code",
   "execution_count": 14,
   "metadata": {},
   "outputs": [
    {
     "name": "stdout",
     "output_type": "stream",
     "text": [
      "A value:  1.45\n",
      "A nested list:  [1, 2, 3]\n",
      "A nested list item:  2\n",
      "A nested dictionary:  {'a': 10, 'b': 20}\n",
      "A nested dictionary item:  10\n"
     ]
    }
   ],
   "source": [
    "# Indexing dictionaries\n",
    "print(\"A value: \", d[\"key1\"])\n",
    "print(\"A nested list: \", d[\"aList\"])\n",
    "print(\"A nested list item: \", d[\"aList\"][1])\n",
    "print(\"A nested dictionary: \", d[\"aDict\"])\n",
    "print(\"A nested dictionary item: \", d[\"aDict\"][\"a\"])"
   ]
  },
  {
   "cell_type": "markdown",
   "metadata": {},
   "source": [
    "## Conditional statements"
   ]
  },
  {
   "cell_type": "code",
   "execution_count": 4,
   "metadata": {},
   "outputs": [
    {
     "name": "stdout",
     "output_type": "stream",
     "text": [
      "I don't really like carrots.\n"
     ]
    }
   ],
   "source": [
    "# Conditional statements\n",
    "veggy = \"carrot\"\n",
    "mood = \"okay\"\n",
    "if veggy == \"noveggies\" or mood == \"bad\": # note 'or'\n",
    "    print(\"That's not healthy!\")\n",
    "elif veggy == \"carrot\" and mood == \"good\": # note 'and'\n",
    "    print(\"I like carrots!\")\n",
    "elif veggy == \"carrot\" and mood == \"okay\":\n",
    "    print(\"I don't really like carrots.\")\n",
    "elif veggy == \"carrot\" and mood == \"bad\":\n",
    "    print(\"I hate carrots.\")\n",
    "else:\n",
    "    print(\"I skip dinner!\")"
   ]
  },
  {
   "cell_type": "markdown",
   "metadata": {},
   "source": [
    "## For loop"
   ]
  },
  {
   "cell_type": "code",
   "execution_count": 16,
   "metadata": {},
   "outputs": [
    {
     "name": "stdout",
     "output_type": "stream",
     "text": [
      "Iteration: 0\n",
      "Iteration: 1\n",
      "Iteration: 2\n",
      "Iteration: 3\n"
     ]
    }
   ],
   "source": [
    "# Looping several iterations with range\n",
    "for i in range(4):\n",
    "    print(\"Iteration: {}\".format(i))"
   ]
  },
  {
   "cell_type": "code",
   "execution_count": 17,
   "metadata": {},
   "outputs": [
    {
     "name": "stdout",
     "output_type": "stream",
     "text": [
      "Item: apple\n",
      "Item: banana\n",
      "Item: orange\n",
      "Item: pear\n"
     ]
    }
   ],
   "source": [
    "# Print all items in a list\n",
    "for item in ['apple', 'banana', 'orange', 'pear']:\n",
    "    print(\"Item: {}\".format(item))"
   ]
  },
  {
   "cell_type": "code",
   "execution_count": 18,
   "metadata": {},
   "outputs": [
    {
     "name": "stdout",
     "output_type": "stream",
     "text": [
      "1\n",
      "2\n",
      "3\n",
      "four\n"
     ]
    }
   ],
   "source": [
    "# Print all items of a tuple\n",
    "for item in t:\n",
    "    print(item)"
   ]
  },
  {
   "cell_type": "code",
   "execution_count": 19,
   "metadata": {},
   "outputs": [
    {
     "name": "stdout",
     "output_type": "stream",
     "text": [
      "\n",
      "All keys and values: \n",
      "key1:1.45\n",
      "key2:2\n",
      "key3:five\n",
      "aList:[1, 2, 3]\n",
      "aDict:{'a': 10, 'b': 20}\n",
      "newKey:20\n",
      "\n",
      "All keys: \n",
      "key1\n",
      "key2\n",
      "key3\n",
      "aList\n",
      "aDict\n",
      "newKey\n",
      "\n",
      "All values: \n",
      "1.45\n",
      "2\n",
      "five\n",
      "[1, 2, 3]\n",
      "{'a': 10, 'b': 20}\n",
      "20\n"
     ]
    }
   ],
   "source": [
    "# Print all items in a dictionary\n",
    "print(\"\\nAll keys and values: \")  # note '\\n' adds a newline\n",
    "for key, value in d.items(): \n",
    "    print(\"{}:{}\".format(key, value))\n",
    "\n",
    "# Print all keys\n",
    "print(\"\\nAll keys: \")\n",
    "for key in d.keys():\n",
    "    print(key)\n",
    "\n",
    "# Print all values\n",
    "print(\"\\nAll values: \")\n",
    "for val in d.values():\n",
    "    print(val)"
   ]
  },
  {
   "cell_type": "markdown",
   "metadata": {},
   "source": [
    "## While loop"
   ]
  },
  {
   "cell_type": "code",
   "execution_count": 20,
   "metadata": {},
   "outputs": [
    {
     "name": "stdout",
     "output_type": "stream",
     "text": [
      "Iteration: 0\n",
      "Iteration: 1\n",
      "Iteration: 2\n",
      "Iteration: 3\n"
     ]
    }
   ],
   "source": [
    "# Note: mostly a for-loop is easier!\n",
    "i = 0\n",
    "while True:\n",
    "    print(\"Iteration: {}\".format(i))\n",
    "    i += 1\n",
    "    if i>3:\n",
    "        break # not very nice.."
   ]
  },
  {
   "cell_type": "markdown",
   "metadata": {},
   "source": [
    "## Functions"
   ]
  },
  {
   "cell_type": "code",
   "execution_count": 21,
   "metadata": {},
   "outputs": [],
   "source": [
    "# Defining a function is easy!\n",
    "def isprime(n):\n",
    "    \"\"\" \n",
    "    Returns True if n is prime, otherwise False.\n",
    "       \n",
    "    Arguments: \n",
    "        n: Integer number to check\n",
    "       \n",
    "    Returns: \n",
    "        Boolean that is TRUE if n is prime\n",
    "    \"\"\"\n",
    "    \n",
    "    if n <= 1:\n",
    "        return False\n",
    "    \n",
    "    for x in range(2, n):\n",
    "        if (n % x) == 0:\n",
    "            return False\n",
    "        \n",
    "    return True"
   ]
  },
  {
   "cell_type": "code",
   "execution_count": 22,
   "metadata": {},
   "outputs": [
    {
     "name": "stdout",
     "output_type": "stream",
     "text": [
      "Is 40 a prime? False\n",
      "Is 47 a prime? True\n"
     ]
    }
   ],
   "source": [
    "# Calling the function is even easier!\n",
    "print(\"Is 40 a prime? {}\".format(isprime(40)))\n",
    "print(\"Is 47 a prime? {}\".format(isprime(47)))"
   ]
  },
  {
   "cell_type": "markdown",
   "metadata": {},
   "source": [
    "## Indentation\n",
    "Understand how the indentation leads to output in (A), but not in (B). People tend to recommend using *4 spaces* instead of a *single tab*. You can pick either, but you must be consistend within your python code. For a comprehensive discussion, refer to: \n",
    "\n",
    "[![Silicon Valley: Tabs vs. Spaces](http://img.youtube.com/vi/SsoOG6ZeyUI/0.jpg)](http://www.youtube.com/watch?v=SsoOG6ZeyUI)"
   ]
  },
  {
   "cell_type": "code",
   "execution_count": 23,
   "metadata": {},
   "outputs": [
    {
     "name": "stdout",
     "output_type": "stream",
     "text": [
      "A: Math is not broken, all is well\n"
     ]
    }
   ],
   "source": [
    "# A: indentation matters\n",
    "if 0 == 1:\n",
    "    print('A: We live in a world of arithmetic pain')\n",
    "print('A: Math is not broken, all is well')\n",
    "\n",
    "# B: indentation matters\n",
    "if 0 == 1:\n",
    "    print('B: We live in a world of arithmetic pain')\n",
    "    print('B:Math is not broken, all is well')"
   ]
  },
  {
   "cell_type": "markdown",
   "metadata": {},
   "source": [
    "## Plotting"
   ]
  },
  {
   "cell_type": "code",
   "execution_count": 24,
   "metadata": {},
   "outputs": [],
   "source": [
    "# Plotting is easy with matplotlib's pyplot. Note the inline option, which you must use all the time! \n",
    "# It puts the figures *in* the notebook.\n",
    "%matplotlib inline\n",
    "import matplotlib.pyplot as plt"
   ]
  },
  {
   "cell_type": "code",
   "execution_count": 25,
   "metadata": {},
   "outputs": [
    {
     "data": {
      "image/png": "[encoded data removed]",
      "text/plain": [
       "<Figure size 432x288 with 1 Axes>"
      ]
     },
     "metadata": {
      "needs_background": "light"
     },
     "output_type": "display_data"
    }
   ],
   "source": [
    "# Plot\n",
    "plt.figure()\n",
    "plt.plot(range(0, 24, 2), [0, 0, 0, 1, 2, 4, 4, 6, 5, 7, 3, 0])\n",
    "\n",
    "# Always prettify your figures!\n",
    "plt.xlabel(\"time [hour]\")\n",
    "plt.ylabel(\"frequency [a.u.]\")\n",
    "plt.title(\"Productivity\")\n",
    "plt.xlim([0, 24])\n",
    "plt.grid(True)"
   ]
  },
  {
   "cell_type": "markdown",
   "metadata": {},
   "source": [
    "## Numpy"
   ]
  },
  {
   "cell_type": "code",
   "execution_count": 26,
   "metadata": {},
   "outputs": [],
   "source": [
    "import numpy as np"
   ]
  },
  {
   "cell_type": "code",
   "execution_count": 27,
   "metadata": {},
   "outputs": [
    {
     "name": "stdout",
     "output_type": "stream",
     "text": [
      "[0 2 4 6 8]\n",
      "[0 1 2 3 4]\n"
     ]
    }
   ],
   "source": [
    "# Let's create two vectors\n",
    "v = np.arange(0, 10, 2)\n",
    "u = np.arange(0, 5)\n",
    "print(v)\n",
    "print(u)"
   ]
  },
  {
   "cell_type": "code",
   "execution_count": 28,
   "metadata": {},
   "outputs": [
    {
     "name": "stdout",
     "output_type": "stream",
     "text": [
      "(5,) 5\n"
     ]
    }
   ],
   "source": [
    "# Print the dimensions and the total number of elements (note te difference)\n",
    "print(v.shape, v.size)"
   ]
  },
  {
   "cell_type": "code",
   "execution_count": 29,
   "metadata": {},
   "outputs": [
    {
     "name": "stdout",
     "output_type": "stream",
     "text": [
      "20 4.0 2.8284271247461903 4.0 8\n"
     ]
    }
   ],
   "source": [
    "# Some statistics\n",
    "print(np.sum(v), np.mean(v), np.std(v), np.median(v), np.max(v))"
   ]
  },
  {
   "cell_type": "code",
   "execution_count": 30,
   "metadata": {},
   "outputs": [
    {
     "name": "stdout",
     "output_type": "stream",
     "text": [
      "60\n",
      "60\n",
      "[[ 0  0  0  0  0]\n",
      " [ 0  2  4  6  8]\n",
      " [ 0  4  8 12 16]\n",
      " [ 0  6 12 18 24]\n",
      " [ 0  8 16 24 32]]\n",
      "[ 0  2  8 18 32]\n"
     ]
    }
   ],
   "source": [
    "# Products (note the differences)\n",
    "print(v.dot(u))\n",
    "print(np.inner(v, u))\n",
    "print(np.outer(v, u))\n",
    "print(v * u)"
   ]
  },
  {
   "cell_type": "code",
   "execution_count": 31,
   "metadata": {},
   "outputs": [
    {
     "name": "stdout",
     "output_type": "stream",
     "text": [
      "Dimensions of A:  (42, 23)\n",
      "Dimensions of B:  (23, 42)\n"
     ]
    }
   ],
   "source": [
    "# Let's create two matrices:\n",
    "A = np.random.uniform(0,1,[42,23])\n",
    "B = np.random.uniform(0,1,[23,42])\n",
    "\n",
    "print(\"Dimensions of A: \", A.shape)\n",
    "print(\"Dimensions of B: \", B.shape)"
   ]
  },
  {
   "cell_type": "code",
   "execution_count": 32,
   "metadata": {},
   "outputs": [
    {
     "name": "stdout",
     "output_type": "stream",
     "text": [
      "Dimensions of C=AB:  (42, 42)\n",
      "Dimensions of D=A*B.T:  (42, 23)\n",
      "Dimensions of E=BA:  (23, 23)\n"
     ]
    }
   ],
   "source": [
    "# To do matrix multiplication, you use the dot product like this: \n",
    "C = np.dot(A, B)\n",
    "print(\"Dimensions of C=AB: \", C.shape)\n",
    "\n",
    "# Note the difference!!\n",
    "D = A * B.T\n",
    "print(\"Dimensions of D=A*B.T: \", D.shape)\n",
    "\n",
    "# Note the difference!!\n",
    "E = np.dot(B, A)\n",
    "print(\"Dimensions of E=BA: \", E.shape)"
   ]
  },
  {
   "cell_type": "code",
   "execution_count": 33,
   "metadata": {},
   "outputs": [
    {
     "name": "stdout",
     "output_type": "stream",
     "text": [
      "[[ 1  2  3  4]\n",
      " [ 5  6  7  8]\n",
      " [ 9 10 11 12]]\n"
     ]
    }
   ],
   "source": [
    "# Create easy matrix\n",
    "M = np.array([[1, 2, 3, 4], [5, 6, 7, 8], [9, 10, 11, 12]])\n",
    "print(M)"
   ]
  },
  {
   "cell_type": "code",
   "execution_count": 34,
   "metadata": {},
   "outputs": [
    {
     "name": "stdout",
     "output_type": "stream",
     "text": [
      "Number of elements in M:  12\n",
      "Dimensions of M:  (3, 4)\n"
     ]
    }
   ],
   "source": [
    "# Print the dimensions and the total number of elements (note te difference)\n",
    "print(\"Number of elements in M: \", M.size)\n",
    "print(\"Dimensions of M: \", M.shape)"
   ]
  },
  {
   "cell_type": "code",
   "execution_count": 35,
   "metadata": {},
   "outputs": [
    {
     "name": "stdout",
     "output_type": "stream",
     "text": [
      "First dimension [1 2 3 4]\n",
      "First item: 1\n",
      "An item: 12\n",
      "Last item: 12\n",
      "Second row: [5 6 7 8]\n",
      "Second column: [ 2  6 10]\n"
     ]
    }
   ],
   "source": [
    "# Indexing in numpy vectors/matrices (quite similar to python nested lists)\n",
    "print(\"First dimension\", M[0])\n",
    "print(\"First item:\", M[0, 0])\n",
    "print(\"An item:\", M[2, 3])\n",
    "print(\"Last item:\", M[-1, -1])\n",
    "print(\"Second row:\", M[1, :])\n",
    "print(\"Second column:\", M[:, 1])"
   ]
  },
  {
   "cell_type": "code",
   "execution_count": 36,
   "metadata": {},
   "outputs": [
    {
     "name": "stdout",
     "output_type": "stream",
     "text": [
      "Flattened M: [ 1  2  3  4  5  6  7  8  9 10 11 12]\n"
     ]
    }
   ],
   "source": [
    "# Note that when extracting data like this, in numpy the data in the vector will then be  \n",
    "# in row-major order: https://en.wikipedia.org/wiki/Row-major_order\n",
    "# Matlab uses column-major order. \n",
    "print(\"Flattened M:\", M.flatten())"
   ]
  },
  {
   "cell_type": "code",
   "execution_count": 37,
   "metadata": {},
   "outputs": [],
   "source": [
    "# There are also functions to preallocate space for your matrices:\n",
    "D = np.zeros([42, 23]) # full of zeros\n",
    "D = np.ones([42, 23]) # full of ones\n",
    "D = 10 * np.ones([42, 23]) # full of tens\n",
    "\n",
    "# Or to just create random numbers, with a uniform distribution: \n",
    "E = np.random.uniform(0, 1, [42, 23])\n",
    "\n",
    "# ..and with a normal distribution: \n",
    "F = np.random.randn(42, 23)"
   ]
  },
  {
   "cell_type": "markdown",
   "metadata": {},
   "source": [
    "## Native python versus numpy"
   ]
  },
  {
   "cell_type": "code",
   "execution_count": 38,
   "metadata": {},
   "outputs": [
    {
     "name": "stdout",
     "output_type": "stream",
     "text": [
      "Are arr_500 and arr_500_from_list still equal?  True\n"
     ]
    }
   ],
   "source": [
    "# Create an array counting from 0 to 499 (note that Python uses zero-based indexing):\n",
    "arr_500 = np.arange(500)\n",
    "\n",
    "# You can convert lists of numbers into numpy arrays: \n",
    "list_500 = arr_500.tolist()\n",
    "\n",
    "# and back:\n",
    "arr_500_from_list = np.array(list_500)\n",
    "\n",
    "print(\"Are arr_500 and arr_500_from_list still equal? \", np.all(np.equal(arr_500, arr_500_from_list)))"
   ]
  },
  {
   "cell_type": "code",
   "execution_count": 39,
   "metadata": {},
   "outputs": [
    {
     "name": "stdout",
     "output_type": "stream",
     "text": [
      "Speed of vector-scalar multiplication with Python List: \n",
      "34.5 µs ± 1.05 µs per loop (mean ± std. dev. of 7 runs, 10000 loops each)\n"
     ]
    }
   ],
   "source": [
    "# Native python (slow)\n",
    "def list_time(alist, scalar):\n",
    "    for i, val in enumerate(alist):\n",
    "        alist[i] = val * scalar\n",
    "    return alist\n",
    "\n",
    "print(\"Speed of vector-scalar multiplication with Python List: \")\n",
    "%timeit list_time(list_500, 1.1)"
   ]
  },
  {
   "cell_type": "code",
   "execution_count": 40,
   "metadata": {},
   "outputs": [
    {
     "name": "stdout",
     "output_type": "stream",
     "text": [
      "Speed of vector-scalar multiplication with NumPy arrays: \n",
      "2.02 µs ± 46 ns per loop (mean ± std. dev. of 7 runs, 100000 loops each)\n"
     ]
    }
   ],
   "source": [
    "# Numpy (fast)\n",
    "print(\"Speed of vector-scalar multiplication with NumPy arrays: \")\n",
    "%timeit arr_500 * 1.1"
   ]
  },
  {
   "cell_type": "markdown",
   "metadata": {},
   "source": [
    "## References\n",
    "\n",
    "**Python**\n",
    "\n",
    "[Troubleshooting Guide for Python](https://github.com/MareinK/ru-ai-pacman/blob/master/1-python/troubleshooting.md)\n",
    "\n",
    "[Introduction Artificial Intelligence B Python Tutorial](https://github.com/MareinK/ru-ai-pacman/tree/master/1-python)\n",
    "\n",
    "[Beginner's Guide for non-programmers](https://wiki.python.org/moin/BeginnersGuide/NonProgrammers)\n",
    "\n",
    "[Codecademy interactive course](https://www.codecademy.com/learn/python)\n",
    "\n",
    "[Google Python Tutorial (for programmers)](https://developers.google.com/edu/python/)\n",
    "\n",
    "[Learn Python the Hard Way](http://learnpythonthehardway.org/)\n",
    "\n",
    "**Numpy**\n",
    "\n",
    "[Numpy Documentation](http://docs.scipy.org/doc/)\n",
    "\n",
    "[Scientific Python Cheat Sheet](https://ipgp.github.io/scientific_python_cheat_sheet/)\n",
    "\n",
    "[Numpy for Matlab Users](https://docs.scipy.org/doc/numpy-dev/user/numpy-for-matlab-users.html)\n",
    "\n",
    "[Gallery of good scientific Python notebooks](https://github.com/ipython/ipython/wiki/A-gallery-of-interesting-IPython-Notebooks)\n",
    "\n",
    "\n",
    "**Matplotlib**\n",
    "\n",
    "[xkcd style matplotlib gallery](http://matplotlib.org/xkcd/gallery.html)"
   ]
  },
  {
   "cell_type": "code",
   "execution_count": null,
   "metadata": {},
   "outputs": [],
   "source": []
  }
 ],
 "metadata": {
  "anaconda-cloud": {},
  "kernelspec": {
   "display_name": "Python 3",
   "language": "python",
   "name": "python3"
  },
  "language_info": {
   "codemirror_mode": {
    "name": "ipython",
    "version": 3
   },
   "file_extension": ".py",
   "mimetype": "text/x-python",
   "name": "python",
   "nbconvert_exporter": "python",
   "pygments_lexer": "ipython3",
   "version": "3.6.5"
  }
 },
 "nbformat": 4,
 "nbformat_minor": 2
}
