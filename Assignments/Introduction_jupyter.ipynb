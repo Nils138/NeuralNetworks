{
 "cells": [
  {
   "cell_type": "markdown",
   "metadata": {},
   "source": [
    "# Introduction Jupyter\n",
    "\n",
    "    This is a read-only assignment. You do not need to hand in anything for this assignment. \n",
    "    Do read it carefully, as the knowledge is required throughout the course.\n",
    "    \n",
    "Learning goals:\n",
    "1. get familiar with jupyter notebooks\n",
    "1. get familiar with markdown"
   ]
  },
  {
   "cell_type": "markdown",
   "metadata": {},
   "source": [
    "## Jupyter notebooks\n",
    "\n",
    "Jupyter notebooks are a means to interactive computing for several different programming languages. The name, Jupyter, is the abbreviation of the three basic languages that can be used: Julia, Python, and R. Jupyter notebooks are very usefull, since code can be shared along with its results (e.g., figures), as well as extensive comments. \n",
    "\n",
    "A Jupyter notebook has two main cell types: \"Markdown\" and \"Code\". Markdown cells can be useful for writing large explanations. Code cells are there to write and run code. \n",
    "\n",
    "Any cell in a Jupyter notebook can be ran, meaning its content is evaluated. For code this means the code is executed, for markdown this means the content is formatted. To get back to the source of a cell, just double-click it."
   ]
  },
  {
   "cell_type": "markdown",
   "metadata": {},
   "source": [
    "## Short-cuts\n",
    "\n",
    "First and foremost, a usefull command to know is **[shift] + [return]**. It runs the current cell, so either formats your markdown, or runs your code snippet. \n",
    "\n",
    "Second, another useful one is the **[+]** button on the upper left, which you can use to add new cell. \n",
    "\n",
    "Third, under \"Kernel\" click \"**Restart and Clear Output**\" to reset your notebook. In this way you make sure there are no mistakes when running from scratch. \n",
    "\n",
    "Fourth, under \"Cell\" click \"**Run All**\" to test whether all code works properly. Do not leave any errors in your notebooks!!\n",
    "\n",
    "Since a Jupyter notebook keeps a local workspace with all ever evaluated variables, and cells can be ran in random order, make it a habit to check your notebooks. Always run point 3 and point 4 before you share your notebooks. "
   ]
  },
  {
   "cell_type": "markdown",
   "metadata": {},
   "source": [
    "## Markdown\n",
    "Markdown is a text formatting language based on few simple symbols that the Jupyter Notebooks use to present text in a formatted way. Now *double click* into *this* cell and look at the unformatted Markdown code. For example, you use \\# to create headings. Just put more \\# after each other to create headings of different sizes.\n",
    "\n",
    "Markdown cells will be presented *formatted* in the Jupyter Notebook when you run the cell. By double-clicking you can edit them and see the original formatting language. \n",
    "\n",
    "### Bullet points\n",
    "You can write lists with bullet points: \n",
    "* you can create bullet points with \\*\n",
    "* a bullet point with sub bullet points\n",
    "  * and it turtles all\n",
    "    * the way down\n",
    "      * note that indentation does the magic \n",
    "\n",
    "### Bullet numbers\n",
    "You can also use 'bullet numbers':\n",
    "1. they count\n",
    "1. down\n",
    "1. numbers\n",
    "1. note that in the unformatted markdown you do not need to count yourself\n",
    "\n",
    "### LaTex\n",
    "You can write formulas into Markdown cells using standard LaTeX formula notation. Do so by surrounding the equations by \\$...\\$. For instance:\n",
    "$ e^{i \\pi} + 1 = 0 $\n",
    "\n",
    "### Images\n",
    "You can also include images (e.g. scans of handwritten notes) into a markdown cell by using <pre>![Image title](local_image.png)</pre>. For instance: \n",
    "![Programming in Python](https://pbs.twimg.com/media/Crt_UxdWgAYWNrz.jpg:small)\n",
    "When running the Markdown cell with the image, the image must exist locally as a file.   \n",
    "\n",
    "### Code\n",
    "In your assignment comments you may want to talk about parts of your code or function names,  i.e. use code for illustrative purposes. When talking about `my_function()` within text as in this sentence, you can format `my_function()` as *code* by surrounding it with backtick quotes: \\`...\\`.\n",
    "\n",
    "If you want to include a block of code in a Markdown cell, you just need to place *4 (extra) spaces* in front of each line:\n",
    "\n",
    "    def fibonacci(n):\n",
    "        \"\"\"Returns the n-th fibonacci number.\"\"\"\n",
    "        if n in (0, 1):\n",
    "            return n\n",
    "        elif n > 1:\n",
    "            return fibonacci(n - 1) + fibonacci(n - 2)\n",
    "        else:\n",
    "            raise ArithmeticError('n must be a non-negative int')\n",
    "            \n",
    "Of course, when you really want to run code, you should not use markdown, but a code cell. For an introduction to coding with python in a jupyter notebook, see the introduction to python notebook. "
   ]
  },
  {
   "cell_type": "markdown",
   "metadata": {},
   "source": [
    "## References\n",
    "\n",
    "** Jupyter notebook**\n",
    "\n",
    "[Jupyter Notebooks Documentation](http://jupyter-notebook.readthedocs.io/en/latest/examples/Notebook/examples_index.html)\n",
    "\n",
    "**Markdown**\n",
    "\n",
    "[Brief Markdown reference](http://www.markitdown.net/markdown)\n",
    "\n",
    "[Markdown specification basics](http://daringfireball.net/projects/markdown/)\n",
    "\n",
    "**LaTex**\n",
    "\n",
    "[LaTeX equation editor](https://www.codecogs.com/latex/eqneditor.php?lang=en-us)\n",
    "\n",
    "[LaTeX Math symbol search](http://detexify.kirelabs.org/classify.html)"
   ]
  },
  {
   "cell_type": "code",
   "execution_count": null,
   "metadata": {},
   "outputs": [],
   "source": []
  }
 ],
 "metadata": {
  "anaconda-cloud": {},
  "kernelspec": {
   "display_name": "Python 3",
   "language": "python",
   "name": "python3"
  },
  "language_info": {
   "codemirror_mode": {
    "name": "ipython",
    "version": 3
   },
   "file_extension": ".py",
   "mimetype": "text/x-python",
   "name": "python",
   "nbconvert_exporter": "python",
   "pygments_lexer": "ipython3",
   "version": "3.6.5"
  }
 },
 "nbformat": 4,
 "nbformat_minor": 2
}
